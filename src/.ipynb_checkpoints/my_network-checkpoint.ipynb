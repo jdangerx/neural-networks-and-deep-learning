{
 "cells": [
  {
   "cell_type": "code",
   "execution_count": 1,
   "metadata": {},
   "outputs": [],
   "source": [
    "import random\n",
    "\n",
    "import numpy as np"
   ]
  },
  {
   "cell_type": "code",
   "execution_count": 2,
   "metadata": {},
   "outputs": [],
   "source": [
    "import mnist_loader\n",
    "\n",
    "training_data, validation_data, test_data = mnist_loader.load_data_wrapper()"
   ]
  },
  {
   "cell_type": "code",
   "execution_count": 12,
   "metadata": {},
   "outputs": [],
   "source": [
    "def sigmoid(z):\n",
    "    \"\"\"Calculate the sigmoid function.\"\"\"\n",
    "    return 1.0/(1.0 + np.exp(-z))\n",
    "\n",
    "\n",
    "def sigmoid_prime(z):\n",
    "    \"\"\"Calculate the derivateive of sigmoid function.\"\"\"\n",
    "    return sigmoid(z) * (1-sigmoid(z))\n",
    "\n",
    "\n",
    "class Network:\n",
    "    def __init__(self, sizes):\n",
    "        self.num_layers = len(sizes)\n",
    "        self.sizes = sizes\n",
    "        self.biases = [np.random.randn(m,1) for m in sizes[1:]]\n",
    "        self.weights = [np.random.randn(m, n)\n",
    "                        for n, m in zip(sizes[:-1], sizes[1:])]\n",
    "\n",
    "    def feedforward(self, a):\n",
    "        \"\"\"Walk through each layer of the network.\"\"\"\n",
    "        for w, b in zip(self.weights, self.biases):\n",
    "            a = sigmoid(np.dot(w, a) + b)\n",
    "        return a\n",
    "\n",
    "    def SGD(self, training_data, epochs, mini_batch_size, eta,\n",
    "            test_data=None):\n",
    "        \"Given all these hyperparams, run a stochastic gradient descent.\"\n",
    "        if test_data: n_test = len(test_data)\n",
    "        n = len(training_data)\n",
    "        for j in range(epochs):\n",
    "            random.shuffle(training_data)\n",
    "            mini_batches = [training_data[k:k+mini_batch_size]\n",
    "                           for k in range(0, n, mini_batch_size)]\n",
    "            for mini_batch in mini_batches:\n",
    "                self.update_mini_batch_matrix(mini_batch, eta)\n",
    "            if test_data:\n",
    "                print(\"Epoch {}: {} / {}\".format(\n",
    "                    j, self.evaluate(test_data), n_test))\n",
    "            else:\n",
    "                print(\"Epoch {} complete.\".format(j))\n",
    "\n",
    "    def update_mini_batch_matrix(self, mini_batch, eta):\n",
    "        arr = np.array(mini_batch)\n",
    "        x_mat, y_mat = (np.hstack(arr[:,0]), np.hstack(arr[:,1]))\n",
    "        nabla_b, nabla_w = self.backprop_matrix(x_mat, y_mat)\n",
    "        # nabla_b, nabla_w are collapsed into a single column vector each\n",
    "        m = len(mini_batch)\n",
    "        self.biases = [b - (eta/m)*nb for b, nb in zip(self.biases, nabla_b)]\n",
    "        self.weights = [w - (eta/m)*nw for w, nw in zip(self.weights, nabla_w)]\n",
    "        \n",
    "    def backprop_matrix(self, x_mat, y_mat):\n",
    "        num_inputs = x_mat.shape[1]\n",
    "        deltas = [np.zeros((b.shape[0], num_inputs)) for b in self.biases] # index by layer\n",
    "        nabla_w = [np.zeros(w.shape + (num_inputs,)) for w in self.weights]\n",
    "        activations = [x_mat]\n",
    "        zs = []\n",
    "        \n",
    "        for b, w in zip(self.biases, self.weights):\n",
    "            zs.append(np.matmul(w, activations[-1]) + b)\n",
    "            activations.append(sigmoid(zs[-1]))\n",
    "\n",
    "        # if using cross-entropy:\n",
    "        last_error = self.cost_derivative(activations[-1], y_mat)\n",
    "        # if using MSE:\n",
    "        # last_error = (activations[-1] - y_mat) * sigmoid_prime(zs[-1])\n",
    "        \n",
    "        deltas[-1] = last_error\n",
    "        \n",
    "        nabla_w[-1] = np.matmul(last_error, activations[-2].transpose())\n",
    "        \n",
    "        for l in range(2, self.num_layers):\n",
    "            z = zs[-l]\n",
    "            sp = sigmoid_prime(z)\n",
    "            error = np.matmul(self.weights[-l+1].transpose(), deltas[-1]) * sp\n",
    "            deltas[-l] = error\n",
    "            ac = activations[-l]\n",
    "            nabla_w[-l] = np.matmul(error, activations[-l-1].transpose())\n",
    "                   \n",
    "        return [nb.sum(axis=1, keepdims=True) for nb in deltas], nabla_w\n",
    "            \n",
    "    def evaluate(self, test_data):\n",
    "        \"Return # of correct results\"\n",
    "        test_results = [(np.argmax(self.feedforward(x)), y)\n",
    "                        for (x, y) in test_data]\n",
    "        return sum(int(x == y) for x, y in test_results)\n",
    "\n",
    "    def cost_derivative(self, output_activations, y):\n",
    "        return (output_activations - y)"
   ]
  },
  {
   "cell_type": "code",
   "execution_count": 13,
   "metadata": {},
   "outputs": [],
   "source": [
    "net = Network([784, 30, 10])"
   ]
  },
  {
   "cell_type": "code",
   "execution_count": 15,
   "metadata": {},
   "outputs": [
    {
     "name": "stdout",
     "output_type": "stream",
     "text": [
      "Epoch 0: 9386 / 10000\n",
      "Epoch 1: 9411 / 10000\n",
      "Epoch 2: 9412 / 10000\n",
      "Epoch 3: 9424 / 10000\n",
      "Epoch 4: 9420 / 10000\n",
      "Epoch 5: 9425 / 10000\n",
      "Epoch 6: 9433 / 10000\n",
      "Epoch 7: 9445 / 10000\n",
      "Epoch 8: 9434 / 10000\n",
      "Epoch 9: 9438 / 10000\n"
     ]
    }
   ],
   "source": [
    "net.SGD(training_data, 10, 9, 0.5, test_data=test_data)"
   ]
  },
  {
   "cell_type": "code",
   "execution_count": null,
   "metadata": {},
   "outputs": [],
   "source": []
  },
  {
   "cell_type": "code",
   "execution_count": null,
   "metadata": {},
   "outputs": [],
   "source": []
  }
 ],
 "metadata": {
  "kernelspec": {
   "display_name": "Python 2",
   "language": "python",
   "name": "python2"
  },
  "language_info": {
   "codemirror_mode": {
    "name": "ipython",
    "version": 2
   },
   "file_extension": ".py",
   "mimetype": "text/x-python",
   "name": "python",
   "nbconvert_exporter": "python",
   "pygments_lexer": "ipython2",
   "version": "2.7.15"
  }
 },
 "nbformat": 4,
 "nbformat_minor": 2
}
